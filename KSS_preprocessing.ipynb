{
 "cells": [
  {
   "cell_type": "code",
   "execution_count": 1,
   "id": "383b0ae7",
   "metadata": {},
   "outputs": [],
   "source": [
    "f = open(\"transcript.v.1.4.txt\")\n",
    "tmp = f.readlines()\n",
    "f.close()"
   ]
  },
  {
   "cell_type": "code",
   "execution_count": 2,
   "id": "98065840",
   "metadata": {},
   "outputs": [
    {
     "data": {
      "text/plain": [
       "'3/3_4445.wav|제 전화번호는 010-1234-5678입니다.|제 전화번호는 공일공 일이삼사에 오육칠팔입니다.|제 전화번호는 공일공 일이삼사에 오육칠팔입니다.|5.4|My number is 010-1234-5678.\\n'"
      ]
     },
     "execution_count": 2,
     "metadata": {},
     "output_type": "execute_result"
    }
   ],
   "source": [
    "'|'.join(tmp[6642].split('|')[:])"
   ]
  },
  {
   "cell_type": "code",
   "execution_count": 3,
   "id": "f8515af2",
   "metadata": {},
   "outputs": [
    {
     "data": {
      "text/plain": [
       "'1/1_0000.wav|그는 괜찮은 척하려고 애쓰는 것 같았다.|그는 괜찮은 척하려고 애쓰는 것 같았다.|그는 괜찮은 척하려고 애쓰는 것 같았다.|3.5|He seemed to be pretending to be okay.\\n'"
      ]
     },
     "execution_count": 3,
     "metadata": {},
     "output_type": "execute_result"
    }
   ],
   "source": [
    "tmp[0]"
   ]
  },
  {
   "cell_type": "code",
   "execution_count": 4,
   "id": "c3151538",
   "metadata": {},
   "outputs": [],
   "source": [
    "def kss_preprocessing(line:str):\n",
    "    tmp = line.split('|')\n",
    "    key = \"./datasets/KSS/audio/\"+tmp[0][2:]\n",
    "    value = tmp[2]\n",
    "    #key = \"./datasets/KSS/audio/\"+tmp[0].split('|')[0][2:]\n",
    "    #value = tmp[0].split('|')[1]\n",
    "    \n",
    "    return key, value"
   ]
  },
  {
   "cell_type": "code",
   "execution_count": 5,
   "id": "16f118f5",
   "metadata": {},
   "outputs": [],
   "source": [
    "preprocessed_dict = dict()\n",
    "for i in tmp:\n",
    "    key, value = kss_preprocessing(i)\n",
    "    preprocessed_dict[key] = value"
   ]
  },
  {
   "cell_type": "code",
   "execution_count": 6,
   "id": "bf3fe80c",
   "metadata": {},
   "outputs": [
    {
     "name": "stdout",
     "output_type": "stream",
     "text": [
      "./datasets/KSS/audio/4_5631.wav\n",
      "올해 유월은 유난히 쌀쌀해요.\n"
     ]
    }
   ],
   "source": [
    "print(key)\n",
    "print(value)"
   ]
  },
  {
   "cell_type": "code",
   "execution_count": null,
   "id": "9800aa0d",
   "metadata": {},
   "outputs": [],
   "source": []
  },
  {
   "cell_type": "code",
   "execution_count": 7,
   "id": "9ba3bba3",
   "metadata": {},
   "outputs": [],
   "source": [
    "import json\n",
    "#with open(\"/root/share/sewon/Tacotron2-Wavenet-Korean-TTS/datasets/son/son-recognition-All.json\", 'r') as f:\n",
    "#    json_data = json.load(f)\n",
    "\n",
    "with open('kss-recognition-All.json', 'w', encoding='utf-8') as make_file:\n",
    "\n",
    "    json.dump(preprocessed_dict, make_file, indent=\"\\t\")"
   ]
  },
  {
   "cell_type": "code",
   "execution_count": null,
   "id": "55fce01e",
   "metadata": {},
   "outputs": [],
   "source": []
  },
  {
   "cell_type": "code",
   "execution_count": null,
   "id": "13c683e5",
   "metadata": {},
   "outputs": [],
   "source": []
  },
  {
   "cell_type": "code",
   "execution_count": null,
   "id": "f837cd81",
   "metadata": {},
   "outputs": [],
   "source": []
  },
  {
   "cell_type": "code",
   "execution_count": null,
   "id": "ee5b7a30",
   "metadata": {},
   "outputs": [],
   "source": []
  },
  {
   "cell_type": "code",
   "execution_count": 13,
   "id": "2581b03f",
   "metadata": {},
   "outputs": [],
   "source": [
    "file = open(\"/root/share/sewon/Tacotron2-Wavenet-Korean-TTS/train_filelist.txt\", 'w')\n",
    "for i in tmp:\n",
    "    file.write(\"/root/share/sewon/Tacotron2-Wavenet-Korean-TTS/KSS/\"+'|'.join(i.split('|')[:2]) + '\\n')\n",
    "    \n",
    "file.close()"
   ]
  },
  {
   "cell_type": "code",
   "execution_count": null,
   "id": "64ac7e2d",
   "metadata": {},
   "outputs": [],
   "source": []
  },
  {
   "cell_type": "code",
   "execution_count": null,
   "id": "2f237b23",
   "metadata": {},
   "outputs": [],
   "source": []
  },
  {
   "cell_type": "code",
   "execution_count": 14,
   "id": "2971de85",
   "metadata": {},
   "outputs": [
    {
     "name": "stdout",
     "output_type": "stream",
     "text": [
      "/root/share/sewon/Tacotron2-Wavenet-Korean-TTS\r\n"
     ]
    }
   ],
   "source": [
    "!pwd"
   ]
  },
  {
   "cell_type": "code",
   "execution_count": null,
   "id": "22b7019f",
   "metadata": {},
   "outputs": [],
   "source": []
  }
 ],
 "metadata": {
  "kernelspec": {
   "display_name": "Python 3 (ipykernel)",
   "language": "python",
   "name": "python3"
  },
  "language_info": {
   "codemirror_mode": {
    "name": "ipython",
    "version": 3
   },
   "file_extension": ".py",
   "mimetype": "text/x-python",
   "name": "python",
   "nbconvert_exporter": "python",
   "pygments_lexer": "ipython3",
   "version": "3.7.11"
  }
 },
 "nbformat": 4,
 "nbformat_minor": 5
}
